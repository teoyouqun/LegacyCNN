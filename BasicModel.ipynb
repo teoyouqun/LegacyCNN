{
 "cells": [
  {
   "cell_type": "code",
   "execution_count": 1,
   "metadata": {},
   "outputs": [],
   "source": [
    "from torchsummary import summary\n",
    "from python_lib.BasicModel import BasicModel\n",
    "import torch\n",
    "import numpy as np"
   ]
  },
  {
   "cell_type": "code",
   "execution_count": 2,
   "metadata": {},
   "outputs": [],
   "source": [
    "model = BasicModel(input_size = 2, input_length = 16, out_features = 6).to(\"cuda\")\n",
    "# summary(model, (2,16))\n",
    "\n",
    "# input_feats = torch.rand([10,2,16]).to(\"cuda\")\n",
    "# output = model(input_feats)\n",
    "# output.shape"
   ]
  },
  {
   "cell_type": "code",
   "execution_count": 3,
   "metadata": {},
   "outputs": [
    {
     "name": "stdout",
     "output_type": "stream",
     "text": [
      "tensor([[[-0.4062, -0.4062, -0.4062, -0.4062, -0.4062, -0.4062, -0.4062,\n",
      "          -0.4062, -0.4062,  2.4408,  2.4336, -0.4062, -0.4062, -0.4062],\n",
      "         [ 0.0000,  0.0000,  0.0000,  0.0000,  0.0000,  0.0000,  0.0000,\n",
      "           0.0000,  0.0000,  0.0000,  0.0000,  0.0000,  0.0000,  0.0000],\n",
      "         [-0.4838, -0.4838, -0.4838,  2.6054, -0.4838,  0.7058,  2.0109,\n",
      "          -0.4838, -0.4838, -0.4838, -0.4838, -0.4838, -0.4838, -0.4838],\n",
      "         [ 1.3542, -1.2284,  0.0256,  0.2477, -1.2284,  1.3138, -0.6918,\n",
      "          -1.0874,  1.1860, -0.1399, -0.0590, -0.2233, -1.1609,  1.6918]]],\n",
      "       device='cuda:0', grad_fn=<CudnnBatchNormBackward0>)\n"
     ]
    },
    {
     "name": "stderr",
     "output_type": "stream",
     "text": [
      "c:\\Users\\chiny\\OneDrive - Nanyang Technological University\\Internships\\AY24 DSO Summer\\LegacyCNN\\python_lib\\BasicModel.py:73: UserWarning: Implicit dimension choice for softmax has been deprecated. Change the call to include dim=X as an argument.\n",
      "  z = F.softmax(y)\n"
     ]
    },
    {
     "data": {
      "text/plain": [
       "torch.Size([1, 6])"
      ]
     },
     "execution_count": 3,
     "metadata": {},
     "output_type": "execute_result"
    }
   ],
   "source": [
    "input_feats = torch.rand([1,2,16]).to(\"cuda\")\n",
    "output = model(input_feats)\n",
    "output.shape"
   ]
  },
  {
   "cell_type": "code",
   "execution_count": 4,
   "metadata": {},
   "outputs": [],
   "source": [
    "model.save(\"BasicModelWeights\")"
   ]
  },
  {
   "cell_type": "code",
   "execution_count": 5,
   "metadata": {},
   "outputs": [
    {
     "name": "stdout",
     "output_type": "stream",
     "text": [
      "tensor([[[ 0.0000,  0.0000,  0.0000,  0.0000,  0.0000,  0.0000,  0.0000,\n",
      "           0.0000,  0.0000,  0.0000,  0.0000,  0.0000,  0.0000,  0.0000],\n",
      "         [ 0.0000,  0.0000,  0.0000,  0.0000,  0.0000,  0.0000,  0.0000,\n",
      "           0.0000,  0.0000,  0.0000,  0.0000,  0.0000,  0.0000,  0.0000],\n",
      "         [-0.8139, -0.3124,  1.8746, -0.3729, -0.8139, -0.3124,  1.8746,\n",
      "          -0.3729, -0.8139, -0.3124,  1.8746, -0.3729, -0.8139, -0.3124],\n",
      "         [ 0.0000,  0.0000,  0.0000,  0.0000,  0.0000,  0.0000,  0.0000,\n",
      "           0.0000,  0.0000,  0.0000,  0.0000,  0.0000,  0.0000,  0.0000]]],\n",
      "       device='cuda:0', grad_fn=<CudnnBatchNormBackward0>)\n"
     ]
    },
    {
     "data": {
      "text/plain": [
       "tensor([[0.1685, 0.0557, 0.3693, 0.1538, 0.0570, 0.1958]], device='cuda:0',\n",
       "       grad_fn=<SoftmaxBackward0>)"
      ]
     },
     "execution_count": 5,
     "metadata": {},
     "output_type": "execute_result"
    }
   ],
   "source": [
    "inputs = np.array([\n",
    "    [1, 2, 3, 4, 1, 2, 3, 4, 1, 2, 3, 4, 1, 2, 3, 4],\n",
    "    [4, 5, 6, 7, 4, 5, 6, 7, 4, 5, 6, 7, 4, 5, 6, 7]\n",
    "], dtype= np.float32)\n",
    "\n",
    "inputs = torch.from_numpy(inputs).to(\"cuda\")\n",
    "inputs  = torch.reshape(inputs, (1,2,16))\n",
    "inputs.shape\n",
    "model(inputs)"
   ]
  },
  {
   "cell_type": "code",
   "execution_count": null,
   "metadata": {},
   "outputs": [],
   "source": []
  }
 ],
 "metadata": {
  "kernelspec": {
   "display_name": "pytorch",
   "language": "python",
   "name": "python3"
  },
  "language_info": {
   "codemirror_mode": {
    "name": "ipython",
    "version": 3
   },
   "file_extension": ".py",
   "mimetype": "text/x-python",
   "name": "python",
   "nbconvert_exporter": "python",
   "pygments_lexer": "ipython3",
   "version": "3.9.16"
  }
 },
 "nbformat": 4,
 "nbformat_minor": 2
}
