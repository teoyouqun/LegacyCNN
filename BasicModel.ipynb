{
 "cells": [
  {
   "cell_type": "code",
   "execution_count": 1,
   "metadata": {},
   "outputs": [],
   "source": [
    "from torchsummary import summary\n",
    "from python_lib.BasicModel import BasicModel\n",
    "import torch\n",
    "import numpy as np\n",
    "import os"
   ]
  },
  {
   "cell_type": "code",
   "execution_count": 2,
   "metadata": {},
   "outputs": [],
   "source": [
    "model = BasicModel(input_size = 2, input_length = 16, out_features = 6).to(\"cuda\")\n",
    "# summary(model, (2,16))\n",
    "\n",
    "# input_feats = torch.rand([10,2,16]).to(\"cuda\")\n",
    "# output = model(input_feats)\n",
    "# output.shape"
   ]
  },
  {
   "cell_type": "code",
   "execution_count": 3,
   "metadata": {},
   "outputs": [
    {
     "name": "stdout",
     "output_type": "stream",
     "text": [
      "[[0.21523035 0.14776528 0.28956282 0.92761934 0.7336509  0.8099116\n",
      "  0.0805918  0.9454845  0.37772256 0.654699   0.23680395 0.13639969\n",
      "  0.52952385 0.6869987  0.15913689 0.2564276 ]\n",
      " [0.02004808 0.43567842 0.85128176 0.5275597  0.5351463  0.41872543\n",
      "  0.21224606 0.719749   0.943496   0.19102567 0.4625892  0.1721164\n",
      "  0.13598078 0.00585544 0.42543107 0.09241921]]\n"
     ]
    }
   ],
   "source": [
    "input_feats = torch.rand([1,2,16]).to(\"cuda\")\n",
    "input_feats_np = input_feats.cpu().detach().numpy()\n",
    "input_feats_np = np.reshape(input_feats_np, (2,16))\n",
    "print(input_feats_np)\n",
    "dim = input_feats_np.shape\n",
    "\n",
    "flatten_inputs = input_feats_np.flatten()\n",
    "with open(os.path.join(\"BasicModelWeights\", f\"input.bin\"), \"wb\") as f:\n",
    "            # Write the dimensions down\n",
    "            f.write(np.array(dim, dtype=np.int32).tobytes())\n",
    "            # Write the flatten bias down\n",
    "            f.write(flatten_inputs.tobytes())"
   ]
  },
  {
   "cell_type": "code",
   "execution_count": 4,
   "metadata": {},
   "outputs": [
    {
     "data": {
      "text/plain": [
       "array([[[-0.15677316, -0.15677316, -0.15677316, -0.15677316,\n",
       "         -0.15677316, -0.15677316, -0.15677316, -0.15677316,\n",
       "         -0.15677316, -0.15677316, -0.15677316, -0.15677316,\n",
       "         -0.15677316,  2.0380511 ],\n",
       "        [-0.29988846,  3.584026  , -0.29988846, -0.29988846,\n",
       "         -0.29988846, -0.29988846, -0.29988846, -0.29988846,\n",
       "         -0.29988846, -0.29988846, -0.29988846,  0.01463531,\n",
       "         -0.29988846, -0.29988846],\n",
       "        [-0.4095652 , -0.45954415, -0.45954415, -0.45954415,\n",
       "         -0.45954415,  1.5837413 , -0.45954415, -0.45954415,\n",
       "         -0.45954415,  0.42619604, -0.45954415, -0.45954415,\n",
       "         -0.45954415,  2.9950686 ],\n",
       "        [ 1.2229835 ,  1.5427513 , -1.1987264 , -0.2772781 ,\n",
       "         -1.1987264 ,  1.5714931 , -0.7436059 ,  0.15085906,\n",
       "         -1.1987264 ,  0.14817654, -0.03210485,  0.11094227,\n",
       "         -1.1987264 ,  1.100688  ]]], dtype=float32)"
      ]
     },
     "execution_count": 4,
     "metadata": {},
     "output_type": "execute_result"
    }
   ],
   "source": [
    "model.layer0(input_feats).cpu().detach().numpy()"
   ]
  },
  {
   "cell_type": "code",
   "execution_count": 5,
   "metadata": {},
   "outputs": [
    {
     "data": {
      "text/plain": [
       "Parameter containing:\n",
       "tensor([[[ 0.2246, -0.3735, -0.2891],\n",
       "         [-0.2223,  0.2639,  0.0954]],\n",
       "\n",
       "        [[-0.2308, -0.3234,  0.3364],\n",
       "         [-0.2648,  0.2037, -0.1495]],\n",
       "\n",
       "        [[ 0.1703, -0.3840,  0.1195],\n",
       "         [-0.3413, -0.0525, -0.1145]],\n",
       "\n",
       "        [[ 0.0436, -0.3353,  0.3131],\n",
       "         [-0.4048,  0.1789,  0.0357]]], device='cuda:0', requires_grad=True)"
      ]
     },
     "execution_count": 5,
     "metadata": {},
     "output_type": "execute_result"
    }
   ],
   "source": [
    "model.layer0[0].weight"
   ]
  },
  {
   "cell_type": "code",
   "execution_count": 6,
   "metadata": {},
   "outputs": [
    {
     "data": {
      "text/plain": [
       "Parameter containing:\n",
       "tensor([-0.1321,  0.0039,  0.1151,  0.1811], device='cuda:0',\n",
       "       requires_grad=True)"
      ]
     },
     "execution_count": 6,
     "metadata": {},
     "output_type": "execute_result"
    }
   ],
   "source": [
    "model.layer0[0].bias"
   ]
  },
  {
   "cell_type": "code",
   "execution_count": 7,
   "metadata": {},
   "outputs": [],
   "source": [
    "model.save(\"BasicModelWeights\")"
   ]
  },
  {
   "cell_type": "code",
   "execution_count": 8,
   "metadata": {},
   "outputs": [
    {
     "name": "stdout",
     "output_type": "stream",
     "text": [
      "layer0 tensor([[[-0.1568, -0.1568, -0.1568, -0.1568, -0.1568, -0.1568, -0.1568,\n",
      "          -0.1568, -0.1568, -0.1568, -0.1568, -0.1568, -0.1568,  2.0381],\n",
      "         [-0.2999,  3.5840, -0.2999, -0.2999, -0.2999, -0.2999, -0.2999,\n",
      "          -0.2999, -0.2999, -0.2999, -0.2999,  0.0146, -0.2999, -0.2999],\n",
      "         [-0.4096, -0.4595, -0.4595, -0.4595, -0.4595,  1.5837, -0.4595,\n",
      "          -0.4595, -0.4595,  0.4262, -0.4595, -0.4595, -0.4595,  2.9951],\n",
      "         [ 1.2230,  1.5428, -1.1987, -0.2773, -1.1987,  1.5715, -0.7436,\n",
      "           0.1509, -1.1987,  0.1482, -0.0321,  0.1109, -1.1987,  1.1007]]],\n",
      "       device='cuda:0', grad_fn=<CudnnBatchNormBackward0>)\n",
      "layer1 tensor([[[ 1.0551, -0.5976, -0.5976,  0.6229, -0.5976, -0.5976, -0.5976,\n",
      "           0.3629, -0.5976, -0.5976, -0.5976,  2.7402],\n",
      "         [ 0.2919, -0.3555, -0.3555, -0.3555, -0.3555, -0.3555, -0.3555,\n",
      "          -0.3555, -0.3555, -0.3555, -0.3555,  3.2632],\n",
      "         [ 0.3556,  2.6452, -0.8384, -0.2307, -0.8384,  0.3907, -0.8384,\n",
      "           0.7207, -0.8384, -0.8384, -0.3862,  0.6967],\n",
      "         [ 3.3079, -0.2812, -0.3355, -0.3355, -0.0766, -0.2665, -0.3355,\n",
      "          -0.3355, -0.3355, -0.3355, -0.3355, -0.3355]]], device='cuda:0',\n",
      "       grad_fn=<CudnnBatchNormBackward0>)\n",
      "layer2 tensor([[[-0.4541,  2.7513, -0.4541, -0.4541, -0.4541, -0.4541, -0.4541,\n",
      "           0.8818, -0.4541, -0.4541],\n",
      "         [-0.6805, -0.6805,  1.6848,  0.0280, -0.0516, -0.6805,  2.1588,\n",
      "          -0.6805, -0.6805, -0.4175],\n",
      "         [-0.4411,  0.6706, -0.4411, -0.4411, -0.4411, -0.4140, -0.4411,\n",
      "          -0.4411, -0.4411,  2.8312],\n",
      "         [-0.3333, -0.3333, -0.3333, -0.3333, -0.3333, -0.3333, -0.3333,\n",
      "          -0.3333, -0.3333,  2.9999]]], device='cuda:0',\n",
      "       grad_fn=<CudnnBatchNormBackward0>)\n",
      "layer3 tensor([[[ 1.2253e+00,  7.4000e-01, -8.9695e-01, -8.9695e-01, -8.7117e-01,\n",
      "          -6.8663e-02, -8.9695e-01,  1.6654e+00],\n",
      "         [-6.8891e-01,  1.8054e+00, -6.8891e-01, -5.8796e-01, -6.8891e-01,\n",
      "          -4.1201e-02, -6.8891e-01,  1.5794e+00],\n",
      "         [-1.8788e+00, -8.9595e-01,  1.6948e+00, -1.6973e-01,  6.5458e-01,\n",
      "           2.1585e-03,  5.7950e-01,  1.3514e-02],\n",
      "         [-3.9827e-01, -3.9827e-01, -2.5268e-01, -3.9827e-01, -3.9827e-01,\n",
      "          -3.9827e-01, -3.9827e-01,  2.6423e+00]]], device='cuda:0',\n",
      "       grad_fn=<CudnnBatchNormBackward0>)\n",
      "layer4 tensor([[[ 1.7670, -0.3061,  0.1284, -1.6196, -0.2519,  0.2823],\n",
      "         [-0.3508, -0.4708, -0.4708, -0.4708, -0.4708,  2.2338],\n",
      "         [-0.8469,  0.5687, -0.9419,  0.4305, -0.9419,  1.7314],\n",
      "         [-0.9708, -0.3700,  1.0207, -0.7666, -0.6174,  1.7041]]],\n",
      "       device='cuda:0', grad_fn=<CudnnBatchNormBackward0>)\n",
      "fc tensor([[ 0.6137,  0.6736,  1.1989,  0.8470, -0.3523,  0.6226]],\n",
      "       device='cuda:0', grad_fn=<AddmmBackward0>)\n"
     ]
    },
    {
     "name": "stderr",
     "output_type": "stream",
     "text": [
      "c:\\Users\\chiny\\OneDrive - Nanyang Technological University\\Internships\\AY24 DSO Summer\\LegacyCNN\\python_lib\\BasicModel.py:77: UserWarning: Implicit dimension choice for softmax has been deprecated. Change the call to include dim=X as an argument.\n",
      "  z = F.softmax(y)\n"
     ]
    },
    {
     "data": {
      "text/plain": [
       "tensor([[0.1536, 0.1631, 0.2758, 0.1940, 0.0585, 0.1550]], device='cuda:0',\n",
       "       grad_fn=<SoftmaxBackward0>)"
      ]
     },
     "execution_count": 8,
     "metadata": {},
     "output_type": "execute_result"
    }
   ],
   "source": [
    "model(input_feats)"
   ]
  },
  {
   "cell_type": "code",
   "execution_count": 9,
   "metadata": {},
   "outputs": [
    {
     "name": "stdout",
     "output_type": "stream",
     "text": [
      "Parameter containing:\n",
      "tensor([[[ 0.1756,  0.2324, -0.0682],\n",
      "         [-0.1006,  0.2525,  0.1080],\n",
      "         [-0.2183,  0.1962,  0.1167],\n",
      "         [-0.1462,  0.1314,  0.2332]],\n",
      "\n",
      "        [[ 0.2478, -0.1032, -0.1953],\n",
      "         [-0.1996,  0.1888, -0.1639],\n",
      "         [ 0.1419,  0.2759,  0.1663],\n",
      "         [-0.2215, -0.1677,  0.0983]],\n",
      "\n",
      "        [[-0.0162, -0.1627, -0.0063],\n",
      "         [ 0.1977,  0.0827,  0.0839],\n",
      "         [-0.1529, -0.1014, -0.2197],\n",
      "         [-0.0432, -0.2666,  0.2830]],\n",
      "\n",
      "        [[-0.0920, -0.0870, -0.1693],\n",
      "         [ 0.1423,  0.1242, -0.0449],\n",
      "         [ 0.2883,  0.1416,  0.2420],\n",
      "         [ 0.0011,  0.2182,  0.0726]]], device='cuda:0', requires_grad=True)\n",
      "Parameter containing:\n",
      "tensor([0.2089, 0.0918, 0.1198, 0.0153], device='cuda:0', requires_grad=True)\n"
     ]
    }
   ],
   "source": [
    "print(model.layer3[0].weight)\n",
    "print(model.layer3[0].bias)"
   ]
  },
  {
   "cell_type": "code",
   "execution_count": 10,
   "metadata": {},
   "outputs": [
    {
     "data": {
      "text/plain": [
       "Sequential(\n",
       "  (0): Conv1d(2, 4, kernel_size=(3,), stride=(1,))\n",
       "  (1): ReLU(inplace=True)\n",
       "  (2): BatchNorm1d(4, eps=1e-05, momentum=0.1, affine=True, track_running_stats=True)\n",
       ")"
      ]
     },
     "execution_count": 10,
     "metadata": {},
     "output_type": "execute_result"
    }
   ],
   "source": [
    "model.layer0"
   ]
  }
 ],
 "metadata": {
  "kernelspec": {
   "display_name": "pytorch",
   "language": "python",
   "name": "python3"
  },
  "language_info": {
   "codemirror_mode": {
    "name": "ipython",
    "version": 3
   },
   "file_extension": ".py",
   "mimetype": "text/x-python",
   "name": "python",
   "nbconvert_exporter": "python",
   "pygments_lexer": "ipython3",
   "version": "3.9.16"
  }
 },
 "nbformat": 4,
 "nbformat_minor": 2
}
