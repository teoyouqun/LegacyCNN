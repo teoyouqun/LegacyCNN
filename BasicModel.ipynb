{
 "cells": [
  {
   "cell_type": "code",
   "execution_count": 1,
   "metadata": {},
   "outputs": [],
   "source": [
    "from torchsummary import summary\n",
    "from python_lib.BasicModel import BasicModel\n",
    "import torch\n",
    "import numpy as np"
   ]
  },
  {
   "cell_type": "code",
   "execution_count": 25,
   "metadata": {},
   "outputs": [],
   "source": [
    "model = BasicModel(input_size = 2, input_length = 16, out_features = 6).to(\"cuda\")\n",
    "# summary(model, (2,16))\n",
    "\n",
    "# input_feats = torch.rand([10,2,16]).to(\"cuda\")\n",
    "# output = model(input_feats)\n",
    "# output.shape"
   ]
  },
  {
   "cell_type": "code",
   "execution_count": 52,
   "metadata": {},
   "outputs": [
    {
     "data": {
      "text/plain": [
       "array([[[0.9430284 , 0.11093402, 0.5329974 , 0.69882184, 0.8940353 ,\n",
       "         0.0047369 , 0.9686028 , 0.27977622, 0.25979286, 0.477512  ,\n",
       "         0.02473438, 0.39013845, 0.5221011 , 0.89566046, 0.4136904 ,\n",
       "         0.82651144],\n",
       "        [0.7341754 , 0.6737632 , 0.8890436 , 0.07677811, 0.85111696,\n",
       "         0.59205663, 0.49497455, 0.83626556, 0.995208  , 0.86247855,\n",
       "         0.02370811, 0.17113733, 0.4207794 , 0.16149592, 0.83722293,\n",
       "         0.45872283]]], dtype=float32)"
      ]
     },
     "execution_count": 52,
     "metadata": {},
     "output_type": "execute_result"
    }
   ],
   "source": [
    "input_feats = torch.rand([1,2,16]).to(\"cuda\")\n",
    "input_feats.cpu().detach().numpy()"
   ]
  },
  {
   "cell_type": "code",
   "execution_count": 51,
   "metadata": {},
   "outputs": [
    {
     "data": {
      "text/plain": [
       "array([[[-0.28379035,  1.1421643 , -1.2283012 ,  0.18014047,\n",
       "          0.12849443, -0.7908957 , -0.16820729,  1.3845938 ,\n",
       "         -1.0890554 ,  1.8317938 ,  0.73670846,  0.612956  ,\n",
       "         -1.2283012 , -1.2283012 ],\n",
       "        [-0.39602134, -0.39602134, -0.39602134,  1.733568  ,\n",
       "         -0.39602134, -0.39602134, -0.39602134, -0.39602134,\n",
       "         -0.39602134, -0.39602134, -0.39602134, -0.37179995,\n",
       "          2.9944665 , -0.39602134],\n",
       "        [ 0.        ,  0.        ,  0.        ,  0.        ,\n",
       "          0.        ,  0.        ,  0.        ,  0.        ,\n",
       "          0.        ,  0.        ,  0.        ,  0.        ,\n",
       "          0.        ,  0.        ],\n",
       "        [-0.81668603,  1.5080918 ,  0.02670713, -0.81668603,\n",
       "          0.49627864,  0.83826894, -0.81668603, -0.20245744,\n",
       "         -0.81668603, -0.81668603, -0.81668603, -0.81668603,\n",
       "          0.69344074,  2.3564723 ]]], dtype=float32)"
      ]
     },
     "execution_count": 51,
     "metadata": {},
     "output_type": "execute_result"
    }
   ],
   "source": [
    "model.layer0(input_feats).cpu().detach().numpy()"
   ]
  },
  {
   "cell_type": "code",
   "execution_count": 39,
   "metadata": {},
   "outputs": [
    {
     "data": {
      "text/plain": [
       "Parameter containing:\n",
       "tensor([[[ 0.0836, -0.1996, -0.0432],\n",
       "         [-0.4023,  0.0570,  0.0549]],\n",
       "\n",
       "        [[-0.0016,  0.3573,  0.3805],\n",
       "         [-0.2461, -0.1395,  0.0413]],\n",
       "\n",
       "        [[-0.2527,  0.0237, -0.1303],\n",
       "         [-0.2319,  0.0021, -0.2924]],\n",
       "\n",
       "        [[ 0.2583,  0.0774,  0.1887],\n",
       "         [ 0.0946,  0.2593, -0.2539]]], device='cuda:0', requires_grad=True)"
      ]
     },
     "execution_count": 39,
     "metadata": {},
     "output_type": "execute_result"
    }
   ],
   "source": [
    "model.layer0[0].weight"
   ]
  },
  {
   "cell_type": "code",
   "execution_count": 38,
   "metadata": {},
   "outputs": [
    {
     "data": {
      "text/plain": [
       "Parameter containing:\n",
       "tensor([ 0.3711, -0.2885, -0.3664, -0.3120], device='cuda:0',\n",
       "       requires_grad=True)"
      ]
     },
     "execution_count": 38,
     "metadata": {},
     "output_type": "execute_result"
    }
   ],
   "source": [
    "model.layer0[0].bias"
   ]
  },
  {
   "cell_type": "code",
   "execution_count": 36,
   "metadata": {},
   "outputs": [],
   "source": [
    "model.save(\"BasicModelWeights\")"
   ]
  },
  {
   "cell_type": "code",
   "execution_count": 58,
   "metadata": {},
   "outputs": [
    {
     "data": {
      "text/plain": [
       "Parameter containing:\n",
       "tensor([1., 1., 1., 1.], device='cuda:0', requires_grad=True)"
      ]
     },
     "execution_count": 58,
     "metadata": {},
     "output_type": "execute_result"
    }
   ],
   "source": [
    "model.layer4[2].weight"
   ]
  },
  {
   "cell_type": "code",
   "execution_count": 56,
   "metadata": {},
   "outputs": [
    {
     "name": "stdout",
     "output_type": "stream",
     "text": [
      "tensor([[[ 0.4224, -0.9803, -1.2098,  1.2892, -0.2007, -1.1926,  1.1826,\n",
      "          -0.4655, -1.2098, -0.7697,  1.2477,  0.6563, -0.3461,  1.5762],\n",
      "         [-0.6300, -0.6300,  1.6054, -0.6300, -0.6300, -0.6300, -0.6300,\n",
      "          -0.6300, -0.6300, -0.6300,  0.1536,  2.4050,  1.4039,  0.1019],\n",
      "         [ 0.0000,  0.0000,  0.0000,  0.0000,  0.0000,  0.0000,  0.0000,\n",
      "           0.0000,  0.0000,  0.0000,  0.0000,  0.0000,  0.0000,  0.0000],\n",
      "         [-0.0514,  1.2775, -0.7956, -0.5920,  1.8553, -0.7956, -0.5470,\n",
      "          -0.7956,  0.5707, -0.7956, -0.7956,  0.2434, -0.7956,  2.0171]]],\n",
      "       device='cuda:0', grad_fn=<CudnnBatchNormBackward0>)\n",
      "tensor([[[-0.4534, -0.4534,  0.1875, -0.4534, -0.4534, -0.4534, -0.4379,\n",
      "          -0.4534, -0.4534,  3.2001, -0.0636,  0.2879],\n",
      "         [-0.5221, -0.5221, -0.5221, -0.5221, -0.5221,  0.8218,  1.1191,\n",
      "          -0.5221, -0.5221, -0.5221,  2.7579, -0.5221],\n",
      "         [-0.8498,  2.2256, -1.0149, -1.1041,  0.4454, -0.6111, -1.1041,\n",
      "           0.0522,  1.3397, -0.0466, -0.0278,  0.6955],\n",
      "         [-0.7244,  0.8186,  2.2704, -0.7244, -0.7244,  0.4832, -0.7244,\n",
      "          -0.7244, -0.7244, -0.7244, -0.0072,  1.5059]]], device='cuda:0',\n",
      "       grad_fn=<CudnnBatchNormBackward0>)\n",
      "tensor([[[-0.8418, -0.8418,  2.3276, -0.8006, -0.8418,  0.3318,  0.8120,\n",
      "           0.5642,  0.1322, -0.8418],\n",
      "         [-0.7527, -0.7527,  1.9927, -0.6588, -0.7527,  0.8258,  1.5498,\n",
      "          -0.3353, -0.7527, -0.3634],\n",
      "         [ 0.3387, -0.6936, -0.6936,  0.1389,  0.2841, -0.6936, -0.6936,\n",
      "          -0.6936,  2.7165, -0.0104],\n",
      "         [ 1.8761, -0.8769, -0.8769, -0.2487, -0.8769, -0.8769, -0.8769,\n",
      "           1.0755,  0.8717,  0.8100]]], device='cuda:0',\n",
      "       grad_fn=<CudnnBatchNormBackward0>)\n",
      "tensor([[[ 0.0890,  1.1168, -1.6739, -1.1545,  0.5881, -0.7565,  0.6870,\n",
      "           1.1039],\n",
      "         [ 1.7746, -0.7035, -0.7035,  0.2171, -0.7035, -0.7035, -0.7035,\n",
      "           1.5259],\n",
      "         [-1.1819,  0.2389,  1.4786, -0.8429, -0.3629,  0.4762,  1.3760,\n",
      "          -1.1819],\n",
      "         [ 0.6326, -0.8188,  2.1930,  0.2842, -0.8188, -0.8188, -0.8188,\n",
      "           0.1654]]], device='cuda:0', grad_fn=<CudnnBatchNormBackward0>)\n",
      "tensor([[[-0.8370,  1.7975, -0.8370, -0.8370, -0.0971,  0.8108],\n",
      "         [-0.7065, -0.7065, -0.7065, -0.7065,  1.4795,  1.3466],\n",
      "         [-0.6896, -0.6896,  1.7609,  0.9973, -0.6896, -0.6896],\n",
      "         [-0.7756,  1.9683,  0.5373, -0.7756, -0.1788, -0.7756]]],\n",
      "       device='cuda:0', grad_fn=<CudnnBatchNormBackward0>)\n",
      "tensor([[ 0.2885, -0.0437, -0.4138,  0.8382,  0.2807, -0.6460]],\n",
      "       device='cuda:0', grad_fn=<AddmmBackward0>)\n"
     ]
    },
    {
     "name": "stderr",
     "output_type": "stream",
     "text": [
      "c:\\Users\\chiny\\OneDrive - Nanyang Technological University\\Internships\\AY24 DSO Summer\\LegacyCNN\\python_lib\\BasicModel.py:77: UserWarning: Implicit dimension choice for softmax has been deprecated. Change the call to include dim=X as an argument.\n",
      "  z = F.softmax(y)\n"
     ]
    },
    {
     "data": {
      "text/plain": [
       "tensor([[0.1876, 0.1346, 0.0929, 0.3251, 0.1861, 0.0737]], device='cuda:0',\n",
       "       grad_fn=<SoftmaxBackward0>)"
      ]
     },
     "execution_count": 56,
     "metadata": {},
     "output_type": "execute_result"
    }
   ],
   "source": [
    "model(input_feats)"
   ]
  },
  {
   "cell_type": "code",
   "execution_count": null,
   "metadata": {},
   "outputs": [],
   "source": []
  }
 ],
 "metadata": {
  "kernelspec": {
   "display_name": "pytorch",
   "language": "python",
   "name": "python3"
  },
  "language_info": {
   "codemirror_mode": {
    "name": "ipython",
    "version": 3
   },
   "file_extension": ".py",
   "mimetype": "text/x-python",
   "name": "python",
   "nbconvert_exporter": "python",
   "pygments_lexer": "ipython3",
   "version": "3.9.16"
  }
 },
 "nbformat": 4,
 "nbformat_minor": 2
}
