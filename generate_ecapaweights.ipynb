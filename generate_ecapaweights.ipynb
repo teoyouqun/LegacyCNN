{
 "cells": [
  {
   "cell_type": "markdown",
   "metadata": {},
   "source": [
    "Import the necessary libraries and dependencies"
   ]
  },
  {
   "cell_type": "code",
   "execution_count": 1,
   "metadata": {},
   "outputs": [
    {
     "name": "stderr",
     "output_type": "stream",
     "text": [
      "c:\\Users\\chiny\\anaconda3\\envs\\pytorch\\lib\\site-packages\\tqdm\\auto.py:21: TqdmWarning: IProgress not found. Please update jupyter and ipywidgets. See https://ipywidgets.readthedocs.io/en/stable/user_install.html\n",
      "  from .autonotebook import tqdm as notebook_tqdm\n",
      "c:\\Users\\chiny\\anaconda3\\envs\\pytorch\\lib\\site-packages\\torchaudio\\backend\\utils.py:74: UserWarning: No audio backend is available.\n",
      "  warnings.warn(\"No audio backend is available.\")\n",
      "SpeechBrain could not find any working torchaudio backend. Audio files may fail to load. Follow this link for instructions and troubleshooting: https://pytorch.org/audio/stable/index.html\n",
      "SpeechBrain could not find any working torchaudio backend. Audio files may fail to load. Follow this link for instructions and troubleshooting: https://pytorch.org/audio/stable/index.html\n"
     ]
    }
   ],
   "source": [
    "from python_lib.modules import *\n",
    "import torch\n",
    "import numpy as np\n",
    "import os\n",
    "from python_lib.saveasfile import *"
   ]
  },
  {
   "cell_type": "markdown",
   "metadata": {},
   "source": [
    "# Model initialisation \n",
    "\n",
    "Use BlockSave to save all the weights into a `.bin` file\n",
    "\n",
    "Be sure to `load_state_dict` from a `.pt`/`.pth` file before BlockSave\n",
    "\n",
    "It's omitted here as I don't have the weights on hand, so I just use a random initialised weights."
   ]
  },
  {
   "cell_type": "code",
   "execution_count": 2,
   "metadata": {},
   "outputs": [
    {
     "data": {
      "text/plain": [
       "<python_lib.saveasfile.BlockSave at 0x1e4e66207f0>"
      ]
     },
     "execution_count": 2,
     "metadata": {},
     "output_type": "execute_result"
    }
   ],
   "source": [
    "model = ECAPA_TDNN(input_size = 2, channels=[8,8,8,8,16], lin_neurons=6, device = \"cuda\").to(\"cuda\")\n",
    "\n",
    "BlockSave(model.return_layers(), \"fullecapa\", \"ECAPAweights\")"
   ]
  },
  {
   "cell_type": "markdown",
   "metadata": {},
   "source": [
    "# Generate Input Feats for testing purposes"
   ]
  },
  {
   "cell_type": "code",
   "execution_count": 6,
   "metadata": {},
   "outputs": [
    {
     "name": "stdout",
     "output_type": "stream",
     "text": [
      "[[[0.023166   0.9731417  0.7460158  ... 0.46480352 0.21934539 0.42179698]\n",
      "  [0.10872841 0.282017   0.6692086  ... 0.04658151 0.9434326  0.47276652]]\n",
      "\n",
      " [[0.324135   0.65740377 0.35862434 ... 0.4081254  0.22546905 0.5897336 ]\n",
      "  [0.10112667 0.23391163 0.8612445  ... 0.25318027 0.73377275 0.42561293]]\n",
      "\n",
      " [[0.79551876 0.6762347  0.17714351 ... 0.27255458 0.6157144  0.8788035 ]\n",
      "  [0.8718786  0.4286331  0.8683653  ... 0.72967803 0.8689484  0.40264505]]\n",
      "\n",
      " ...\n",
      "\n",
      " [[0.45201188 0.8362149  0.42966342 ... 0.5648378  0.9012359  0.88712066]\n",
      "  [0.19112778 0.34422404 0.7041239  ... 0.04327422 0.83097804 0.66088027]]\n",
      "\n",
      " [[0.8094985  0.34216088 0.45539242 ... 0.4457382  0.16241944 0.1417619 ]\n",
      "  [0.55029905 0.3897081  0.8553558  ... 0.44461846 0.00520104 0.90155476]]\n",
      "\n",
      " [[0.11795723 0.6111558  0.43313897 ... 0.26249826 0.41432053 0.60882384]\n",
      "  [0.6649869  0.6734526  0.43903393 ... 0.13070625 0.33854437 0.22053027]]]\n",
      "(10, 2, 64)\n"
     ]
    }
   ],
   "source": [
    "input_feats = torch.rand([10,2,64]).to(\"cuda\")\n",
    "input_feats_np = input_feats.cpu().detach().numpy()\n",
    "# input_feats_np = np.reshape(input_feats_np, (10,2,64))\n",
    "print(input_feats_np)\n",
    "dim = input_feats_np.shape\n",
    "print(dim)\n",
    "\n",
    "flatten_inputs = input_feats_np.flatten()\n",
    "with open(os.path.join(\"ECAPAweights\", f\"ecapainput_2x64_10.bin\"), \"wb\") as f:\n",
    "            # Write the dimensions down\n",
    "            f.write(np.array(dim, dtype=np.int32).tobytes())\n",
    "            # Write the flatten bias down\n",
    "            f.write(flatten_inputs.tobytes())"
   ]
  },
  {
   "cell_type": "markdown",
   "metadata": {},
   "source": [
    "# Run the model using eval/train mode"
   ]
  },
  {
   "cell_type": "code",
   "execution_count": 4,
   "metadata": {},
   "outputs": [
    {
     "data": {
      "text/plain": [
       "tensor([[0.1725, 0.1615, 0.1514, 0.1935, 0.1721, 0.1489],\n",
       "        [0.1726, 0.1610, 0.1504, 0.1945, 0.1721, 0.1494],\n",
       "        [0.1723, 0.1612, 0.1504, 0.1948, 0.1719, 0.1494],\n",
       "        [0.1722, 0.1611, 0.1503, 0.1949, 0.1720, 0.1494],\n",
       "        [0.1724, 0.1607, 0.1505, 0.1947, 0.1720, 0.1496],\n",
       "        [0.1721, 0.1615, 0.1507, 0.1945, 0.1720, 0.1494],\n",
       "        [0.1725, 0.1613, 0.1504, 0.1946, 0.1717, 0.1495],\n",
       "        [0.1726, 0.1611, 0.1506, 0.1943, 0.1720, 0.1493],\n",
       "        [0.1727, 0.1607, 0.1510, 0.1944, 0.1718, 0.1495],\n",
       "        [0.1724, 0.1611, 0.1513, 0.1943, 0.1716, 0.1493]], device='cuda:0',\n",
       "       grad_fn=<SoftmaxBackward0>)"
      ]
     },
     "execution_count": 4,
     "metadata": {},
     "output_type": "execute_result"
    }
   ],
   "source": [
    "model.eval()\n",
    "\n",
    "model(input_feats)"
   ]
  }
 ],
 "metadata": {
  "kernelspec": {
   "display_name": "pytorch",
   "language": "python",
   "name": "python3"
  },
  "language_info": {
   "codemirror_mode": {
    "name": "ipython",
    "version": 3
   },
   "file_extension": ".py",
   "mimetype": "text/x-python",
   "name": "python",
   "nbconvert_exporter": "python",
   "pygments_lexer": "ipython3",
   "version": "3.9.16"
  }
 },
 "nbformat": 4,
 "nbformat_minor": 2
}
