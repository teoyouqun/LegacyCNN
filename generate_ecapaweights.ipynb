{
 "cells": [
  {
   "cell_type": "code",
   "execution_count": 3,
   "metadata": {},
   "outputs": [
    {
     "name": "stderr",
     "output_type": "stream",
     "text": [
      "c:\\Users\\chiny\\anaconda3\\envs\\pytorch\\lib\\site-packages\\tqdm\\auto.py:21: TqdmWarning: IProgress not found. Please update jupyter and ipywidgets. See https://ipywidgets.readthedocs.io/en/stable/user_install.html\n",
      "  from .autonotebook import tqdm as notebook_tqdm\n",
      "c:\\Users\\chiny\\anaconda3\\envs\\pytorch\\lib\\site-packages\\torchaudio\\backend\\utils.py:74: UserWarning: No audio backend is available.\n",
      "  warnings.warn(\"No audio backend is available.\")\n",
      "SpeechBrain could not find any working torchaudio backend. Audio files may fail to load. Follow this link for instructions and troubleshooting: https://pytorch.org/audio/stable/index.html\n",
      "SpeechBrain could not find any working torchaudio backend. Audio files may fail to load. Follow this link for instructions and troubleshooting: https://pytorch.org/audio/stable/index.html\n"
     ]
    }
   ],
   "source": [
    "from python_lib.modules import *\n",
    "import torch\n",
    "import numpy as np\n",
    "import os\n",
    "from python_lib.saveasfile import *"
   ]
  },
  {
   "cell_type": "code",
   "execution_count": 4,
   "metadata": {},
   "outputs": [
    {
     "name": "stdout",
     "output_type": "stream",
     "text": [
      "[[0.84810144 0.38021284 0.07742941 0.03554708 0.41127974 0.27814382\n",
      "  0.97178304 0.38108122 0.6306245  0.01527929 0.7848532  0.8927886\n",
      "  0.6942344  0.44062507 0.41166884 0.5559074  0.7124796  0.28590155\n",
      "  0.38814515 0.62809277 0.5547842  0.9216363  0.68185574 0.57008463\n",
      "  0.96388793 0.08997792 0.45683253 0.98440856 0.37720507 0.24197215\n",
      "  0.14635384 0.8134315  0.6730053  0.9690083  0.1192556  0.41332304\n",
      "  0.55238444 0.98969287 0.1591286  0.84837675 0.3805551  0.77151245\n",
      "  0.2889573  0.647639   0.9276624  0.09597516 0.55767703 0.84730256\n",
      "  0.9903024  0.14924139 0.4915164  0.31616527 0.60583097 0.5552245\n",
      "  0.4263553  0.74619174 0.41627967 0.03570694 0.29239243 0.7026873\n",
      "  0.64489114 0.4367838  0.790554   0.4574638 ]\n",
      " [0.6869116  0.269467   0.69392604 0.61449677 0.10298812 0.9795513\n",
      "  0.9872673  0.27054292 0.0239026  0.5107536  0.8755867  0.14174664\n",
      "  0.6716706  0.6615714  0.9821563  0.42259187 0.35205686 0.64875793\n",
      "  0.00193101 0.3156858  0.12059551 0.8191572  0.34104615 0.5185388\n",
      "  0.39162076 0.95537144 0.2877003  0.49838817 0.63850445 0.8173869\n",
      "  0.51804334 0.7912776  0.4509049  0.02773619 0.7556578  0.34319574\n",
      "  0.5312248  0.77121156 0.44027328 0.5439078  0.03226602 0.9853193\n",
      "  0.23554683 0.03209692 0.8029993  0.36948818 0.30265844 0.5703485\n",
      "  0.19908994 0.89789057 0.8920209  0.22624844 0.08403891 0.00438857\n",
      "  0.9538978  0.00687718 0.32109934 0.35152555 0.32618302 0.7050972\n",
      "  0.6386335  0.0109598  0.36456853 0.2838238 ]]\n"
     ]
    }
   ],
   "source": [
    "input_feats = torch.rand([1,2,64]).to(\"cuda\")\n",
    "input_feats_np = input_feats.cpu().detach().numpy()\n",
    "input_feats_np = np.reshape(input_feats_np, (2,64))\n",
    "print(input_feats_np)\n",
    "dim = input_feats_np.shape\n",
    "\n",
    "flatten_inputs = input_feats_np.flatten()\n",
    "with open(os.path.join(\"ECAPAweights\", f\"ecapainput_2x64.bin\"), \"wb\") as f:\n",
    "            # Write the dimensions down\n",
    "            f.write(np.array(dim, dtype=np.int32).tobytes())\n",
    "            # Write the flatten bias down\n",
    "            f.write(flatten_inputs.tobytes())"
   ]
  },
  {
   "cell_type": "code",
   "execution_count": 3,
   "metadata": {},
   "outputs": [
    {
     "data": {
      "text/plain": [
       "<python_lib.saveasfile.BlockSave at 0x27772b7ccd0>"
      ]
     },
     "execution_count": 3,
     "metadata": {},
     "output_type": "execute_result"
    }
   ],
   "source": [
    "model = ECAPA_TDNN(input_size = 2, channels=[8,8,8,8,16], lin_neurons=6, device = \"cuda\").to(\"cuda\")\n",
    "\n",
    "BlockSave(model.return_layers(), \"fullecapa\", \"ECAPAweights\")\n"
   ]
  },
  {
   "cell_type": "code",
   "execution_count": 4,
   "metadata": {},
   "outputs": [
    {
     "data": {
      "text/plain": [
       "tensor([[0.1610, 0.1526, 0.1580, 0.1804, 0.1755, 0.1725]], device='cuda:0',\n",
       "       grad_fn=<SoftmaxBackward0>)"
      ]
     },
     "execution_count": 4,
     "metadata": {},
     "output_type": "execute_result"
    }
   ],
   "source": [
    "model.eval()\n",
    "\n",
    "model(input_feats)"
   ]
  },
  {
   "cell_type": "code",
   "execution_count": 5,
   "metadata": {},
   "outputs": [
    {
     "data": {
      "text/plain": [
       "[2, 2]"
      ]
     },
     "execution_count": 5,
     "metadata": {},
     "output_type": "execute_result"
    }
   ],
   "source": [
    "import math\n",
    "\n",
    "def get_padding_elem(L_in: int, stride: int, kernel_size: int, dilation: int):\n",
    "    \"\"\"This function computes the number of elements to add for zero-padding.\n",
    "\n",
    "    Arguments\n",
    "    ---------\n",
    "    L_in : int\n",
    "    stride: int\n",
    "    kernel_size : int\n",
    "    dilation : int\n",
    "\n",
    "    Returns\n",
    "    -------\n",
    "    padding : int\n",
    "        The size of the padding to be added\n",
    "    \"\"\"\n",
    "    if stride > 1:\n",
    "        padding = [math.floor(kernel_size / 2), math.floor(kernel_size / 2)]\n",
    "\n",
    "    else:\n",
    "        L_out = (\n",
    "            math.floor((L_in - dilation * (kernel_size - 1) - 1) / stride) + 1\n",
    "        )\n",
    "        padding = [\n",
    "            math.floor((L_in - L_out) / 2),\n",
    "            math.floor((L_in - L_out) / 2),\n",
    "        ]\n",
    "    return padding\n",
    "\n",
    "get_padding_elem(64,1,5,1)"
   ]
  }
 ],
 "metadata": {
  "kernelspec": {
   "display_name": "pytorch",
   "language": "python",
   "name": "python3"
  },
  "language_info": {
   "codemirror_mode": {
    "name": "ipython",
    "version": 3
   },
   "file_extension": ".py",
   "mimetype": "text/x-python",
   "name": "python",
   "nbconvert_exporter": "python",
   "pygments_lexer": "ipython3",
   "version": "3.9.16"
  }
 },
 "nbformat": 4,
 "nbformat_minor": 2
}
