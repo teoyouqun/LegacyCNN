{
 "cells": [
  {
   "cell_type": "code",
   "execution_count": 1,
   "metadata": {},
   "outputs": [],
   "source": [
    "from python_lib.ModelGenerator import *"
   ]
  },
  {
   "cell_type": "markdown",
   "metadata": {},
   "source": [
    "## Parameters I wish to set\n",
    "\n",
    "Here, I'm only concern about the DIMENSIONS of the inputs/outputs of the layers."
   ]
  },
  {
   "cell_type": "code",
   "execution_count": 2,
   "metadata": {},
   "outputs": [],
   "source": [
    "input_shape = (2, 64)\n",
    "\n",
    "channels = [8, 8, 8, 8, 16]\n",
    "kernel_sizes = [5, 3, 3, 3, 1]\n",
    "dilations = [1, 2, 3, 4, 1]\n",
    "attention_channels = 128\n",
    "res2net_scale = 8\n",
    "se_channels = 128\n",
    "lin_neurons = 6"
   ]
  },
  {
   "cell_type": "markdown",
   "metadata": {},
   "source": [
    "## Initialisation of the various layers\n",
    "\n",
    "Note: It's the ECAPA TDNN model as reflected in ./modules"
   ]
  },
  {
   "cell_type": "code",
   "execution_count": 3,
   "metadata": {},
   "outputs": [],
   "source": [
    "blocks = []\n",
    "blocks.append(\n",
    "    TDNNBlock(\n",
    "        channel_in=2,\n",
    "        channel_out=channels[0],\n",
    "        kernel=kernel_sizes[0],\n",
    "        dilation=dilations[0],\n",
    "    )\n",
    ")\n",
    "\n",
    "for i in range(1, len(channels) - 1):\n",
    "    blocks.append(\n",
    "        SERes2NetBlock(\n",
    "            res2net_scale=res2net_scale,\n",
    "            se_channel=se_channels,\n",
    "            channel_in=channels[i - 1],\n",
    "            channel_out=channels[i],\n",
    "            kernel=kernel_sizes[i],\n",
    "            dilation=dilations[i],\n",
    "        )\n",
    "    )\n",
    "\n",
    "mfa = TDNNBlock(\n",
    "    channels[-2] * (len(channels) - 2),\n",
    "    channels[-1],\n",
    "    kernel_sizes[-1],\n",
    "    dilations[-1],\n",
    ")\n",
    "\n",
    "# Attentive Statistical Pooling\n",
    "asp = ASP(\n",
    "    channels[-1],\n",
    "    attention_channels=attention_channels,\n",
    ")\n",
    "asp_bn = BatchNorm1d(channel=channels[-1] * 2)\n",
    "\n",
    "dense = Dense(lin_neurons)"
   ]
  },
  {
   "cell_type": "markdown",
   "metadata": {},
   "source": [
    "## Forward Feed"
   ]
  },
  {
   "cell_type": "code",
   "execution_count": 4,
   "metadata": {},
   "outputs": [],
   "source": [
    "xl = []\n",
    "x = input_shape\n",
    "for block in blocks:\n",
    "    x = block.forward(x)\n",
    "    xl.append(x)\n",
    "\n",
    "x = Cat(xl[1:])\n",
    "\n",
    "x = mfa.forward(x)\n",
    "x = asp.forward(x)\n",
    "x = asp_bn.forward(x)\n",
    "\n",
    "# flatten\n",
    "x = x[0] * x[1]\n",
    "\n",
    "y = dense.forward(x)"
   ]
  },
  {
   "cell_type": "markdown",
   "metadata": {},
   "source": [
    "## Print the various layers"
   ]
  },
  {
   "cell_type": "code",
   "execution_count": 5,
   "metadata": {},
   "outputs": [
    {
     "name": "stdout",
     "output_type": "stream",
     "text": [
      "TDNNBlock<5, 1, 2, 8, 1, 64, 64, 4, float> TDNNBlock_0; \n",
      "float x0[8][64];\n",
      "SERes2NetBlock<3, 8, 8, 2, 64, 64, 4, 8, 128, float> SERes2NetBlock_1; \n",
      "float x1[8][64];\n",
      "SERes2NetBlock<3, 8, 8, 3, 64, 64, 6, 8, 128, float> SERes2NetBlock_2; \n",
      "float x2[8][64];\n",
      "SERes2NetBlock<3, 8, 8, 4, 64, 64, 8, 8, 128, float> SERes2NetBlock_3; \n",
      "float x3[8][64];\n",
      "TDNNBlock<1, 1, 24, 16, 1, 64, 64, 0, float> TDNNBlock_4; \n",
      "float x4[16][64];\n",
      "ASP<16, 128, 64, 1, float> ASP_5; \n",
      "float x5[32][1];\n",
      "BatchNorm1d<32, 1, float> BatchNorm1d_6; \n",
      "float x6[32][1];\n",
      "Dense<32, 6, float> Dense_0; \n",
      "float y0[6];\n"
     ]
    }
   ],
   "source": [
    "for block in blocks:\n",
    "    print(block.initialisedstring())\n",
    "\n",
    "print(mfa.initialisedstring())\n",
    "print(asp.initialisedstring())\n",
    "print(asp_bn.initialisedstring())\n",
    "print(dense.initialisedstring())"
   ]
  }
 ],
 "metadata": {
  "kernelspec": {
   "display_name": "pytorch",
   "language": "python",
   "name": "python3"
  },
  "language_info": {
   "codemirror_mode": {
    "name": "ipython",
    "version": 3
   },
   "file_extension": ".py",
   "mimetype": "text/x-python",
   "name": "python",
   "nbconvert_exporter": "python",
   "pygments_lexer": "ipython3",
   "version": "3.9.16"
  }
 },
 "nbformat": 4,
 "nbformat_minor": 2
}
