{
 "cells": [
  {
   "cell_type": "code",
   "execution_count": 1,
   "metadata": {},
   "outputs": [
    {
     "name": "stderr",
     "output_type": "stream",
     "text": [
      "c:\\Users\\chiny\\anaconda3\\envs\\pytorch\\lib\\site-packages\\tqdm\\auto.py:21: TqdmWarning: IProgress not found. Please update jupyter and ipywidgets. See https://ipywidgets.readthedocs.io/en/stable/user_install.html\n",
      "  from .autonotebook import tqdm as notebook_tqdm\n",
      "c:\\Users\\chiny\\anaconda3\\envs\\pytorch\\lib\\site-packages\\torchaudio\\backend\\utils.py:74: UserWarning: No audio backend is available.\n",
      "  warnings.warn(\"No audio backend is available.\")\n",
      "SpeechBrain could not find any working torchaudio backend. Audio files may fail to load. Follow this link for instructions and troubleshooting: https://pytorch.org/audio/stable/index.html\n",
      "SpeechBrain could not find any working torchaudio backend. Audio files may fail to load. Follow this link for instructions and troubleshooting: https://pytorch.org/audio/stable/index.html\n"
     ]
    }
   ],
   "source": [
    "from python_lib.ecapa_classifier import *\n",
    "import torch\n",
    "import numpy as np\n",
    "import os\n",
    "from python_lib.saveasfile import *"
   ]
  },
  {
   "cell_type": "code",
   "execution_count": 2,
   "metadata": {},
   "outputs": [
    {
     "data": {
      "text/plain": [
       "<python_lib.saveasfile.BlockSave at 0x1b140ba3970>"
      ]
     },
     "execution_count": 2,
     "metadata": {},
     "output_type": "execute_result"
    }
   ],
   "source": [
    "# This out_neurons is after fc. Hence, due to ASP previously, we set out_neuron = 1\n",
    "model = ECAPA_TDNN(input_size = 2, \n",
    "                   channels=[8,8,8,8,16], \n",
    "                   lin_neurons=6, \n",
    "                   device = \"cuda\", \n",
    "                   out_neurons=1, \n",
    "                   metrics_type=\"euclidean\").to(\"cuda\")\n",
    "\n",
    "BlockSave(model.return_layers(), \"fullecapa_classifier\", \"ECAPAweights\")"
   ]
  },
  {
   "cell_type": "markdown",
   "metadata": {},
   "source": [
    "# Generate Input Feats for testing purposes"
   ]
  },
  {
   "cell_type": "code",
   "execution_count": 3,
   "metadata": {},
   "outputs": [
    {
     "name": "stdout",
     "output_type": "stream",
     "text": [
      "[[0.06518751 0.3535226  0.03592587 0.8074315  0.4417048  0.5685019\n",
      "  0.34463066 0.28866112 0.15395296 0.20147127 0.6611584  0.06802553\n",
      "  0.49141973 0.15543848 0.20639086 0.52912927 0.43635786 0.45109594\n",
      "  0.01425523 0.97744024 0.15378445 0.25329792 0.4492945  0.81740516\n",
      "  0.6369457  0.9414064  0.08744216 0.6247535  0.26453125 0.8026608\n",
      "  0.6414954  0.5666478  0.4735027  0.17258883 0.66058624 0.2479741\n",
      "  0.96050125 0.14896953 0.74615836 0.07075071 0.7319063  0.52047056\n",
      "  0.28146368 0.59184027 0.03824961 0.5625182  0.5501239  0.7925953\n",
      "  0.46203095 0.99412763 0.08544534 0.18670297 0.9810333  0.84978807\n",
      "  0.6138716  0.07870561 0.6722096  0.19757313 0.35511148 0.69476646\n",
      "  0.21609318 0.28260547 0.680882   0.6204621 ]\n",
      " [0.04717612 0.68084836 0.20193571 0.24674773 0.03044873 0.14896548\n",
      "  0.86940205 0.86394465 0.727035   0.90592515 0.9735898  0.25163466\n",
      "  0.5860443  0.1437546  0.30027205 0.7087686  0.19796067 0.14122236\n",
      "  0.9009617  0.8489751  0.19054097 0.5674772  0.7158725  0.52227604\n",
      "  0.838152   0.30449235 0.17589444 0.6443887  0.21698582 0.9471211\n",
      "  0.7146842  0.09540641 0.7914066  0.6025728  0.5196702  0.04362774\n",
      "  0.23607558 0.59530735 0.5951243  0.30429024 0.5081985  0.8030057\n",
      "  0.21360177 0.09344256 0.00391072 0.79505485 0.05963433 0.14202255\n",
      "  0.05324399 0.28305924 0.21147251 0.56559014 0.7309285  0.75284225\n",
      "  0.58216083 0.42334276 0.53307617 0.69072443 0.5579129  0.06014729\n",
      "  0.41335052 0.67559636 0.34257823 0.0025025 ]]\n",
      "(2, 64)\n"
     ]
    }
   ],
   "source": [
    "input_feats = torch.rand([1,2,64]).to(\"cuda\")\n",
    "input_feats_np = input_feats.cpu().detach().numpy()\n",
    "input_feats_np = np.reshape(input_feats_np, (2,64))\n",
    "print(input_feats_np)\n",
    "dim = input_feats_np.shape\n",
    "print(dim)\n",
    "\n",
    "flatten_inputs = input_feats_np.flatten()\n",
    "with open(os.path.join(\"ECAPAweights\", f\"ecapainput_2x64.bin\"), \"wb\") as f:\n",
    "            # Write the dimensions down\n",
    "            f.write(np.array(dim, dtype=np.int32).tobytes())\n",
    "            # Write the flatten bias down\n",
    "            f.write(flatten_inputs.tobytes())"
   ]
  },
  {
   "cell_type": "markdown",
   "metadata": {},
   "source": [
    "# Run the model using eval/train mode"
   ]
  },
  {
   "cell_type": "code",
   "execution_count": 4,
   "metadata": {},
   "outputs": [
    {
     "data": {
      "text/plain": [
       "torch.Size([1, 6, 1])"
      ]
     },
     "execution_count": 4,
     "metadata": {},
     "output_type": "execute_result"
    }
   ],
   "source": [
    "model.eval()\n",
    "\n",
    "x = model(input_feats)\n",
    "x.shape"
   ]
  },
  {
   "cell_type": "code",
   "execution_count": null,
   "metadata": {},
   "outputs": [],
   "source": []
  }
 ],
 "metadata": {
  "kernelspec": {
   "display_name": "pytorch",
   "language": "python",
   "name": "python3"
  },
  "language_info": {
   "codemirror_mode": {
    "name": "ipython",
    "version": 3
   },
   "file_extension": ".py",
   "mimetype": "text/x-python",
   "name": "python",
   "nbconvert_exporter": "python",
   "pygments_lexer": "ipython3",
   "version": "3.9.16"
  }
 },
 "nbformat": 4,
 "nbformat_minor": 2
}
