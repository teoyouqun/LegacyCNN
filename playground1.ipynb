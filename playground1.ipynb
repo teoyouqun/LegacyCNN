{
 "cells": [
  {
   "cell_type": "code",
   "execution_count": 1,
   "metadata": {},
   "outputs": [],
   "source": [
    "import torch"
   ]
  },
  {
   "cell_type": "code",
   "execution_count": 2,
   "metadata": {},
   "outputs": [
    {
     "data": {
      "text/plain": [
       "tensor([[ 1.2374,  0.7530, -1.6983, -0.5301, -1.3627, -0.5893,  1.1252, -1.7811,\n",
       "         -0.1937, -0.7634, -1.5650, -1.3295,  0.4027,  0.3593, -0.4867, -0.1175],\n",
       "        [ 0.4844, -0.2681, -1.5219,  0.3690, -1.7322, -0.5980, -0.5738,  1.1502,\n",
       "         -0.5947, -1.4961, -0.7994, -0.6638, -1.8650,  1.6413, -0.1663,  1.5513]])"
      ]
     },
     "execution_count": 2,
     "metadata": {},
     "output_type": "execute_result"
    }
   ],
   "source": [
    "data = torch.randn((2,16))\n",
    "data"
   ]
  },
  {
   "cell_type": "code",
   "execution_count": 10,
   "metadata": {},
   "outputs": [
    {
     "data": {
      "text/plain": [
       "(tensor([[ 1.2374,  0.7530, -1.6983],\n",
       "         [ 0.4844, -0.2681, -1.5219]]),\n",
       " tensor([[-0.5301, -1.3627, -0.5893],\n",
       "         [ 0.3690, -1.7322, -0.5980]]),\n",
       " tensor([[ 1.1252, -1.7811, -0.1937],\n",
       "         [-0.5738,  1.1502, -0.5947]]),\n",
       " tensor([[-0.7634, -1.5650, -1.3295],\n",
       "         [-1.4961, -0.7994, -0.6638]]),\n",
       " tensor([[ 0.4027,  0.3593, -0.4867],\n",
       "         [-1.8650,  1.6413, -0.1663]]),\n",
       " tensor([[-0.1175],\n",
       "         [ 1.5513]]))"
      ]
     },
     "execution_count": 10,
     "metadata": {},
     "output_type": "execute_result"
    }
   ],
   "source": [
    "d2 = torch.chunk(data, 6, dim= 1)\n",
    "d2"
   ]
  },
  {
   "cell_type": "code",
   "execution_count": 11,
   "metadata": {},
   "outputs": [
    {
     "data": {
      "text/plain": [
       "tensor([[ 1.2374,  0.7530, -1.6983, -0.5301, -1.3627, -0.5893,  1.1252, -1.7811,\n",
       "         -0.1937, -0.7634, -1.5650, -1.3295,  0.4027,  0.3593, -0.4867, -0.1175],\n",
       "        [ 0.4844, -0.2681, -1.5219,  0.3690, -1.7322, -0.5980, -0.5738,  1.1502,\n",
       "         -0.5947, -1.4961, -0.7994, -0.6638, -1.8650,  1.6413, -0.1663,  1.5513]])"
      ]
     },
     "execution_count": 11,
     "metadata": {},
     "output_type": "execute_result"
    }
   ],
   "source": [
    "torch.cat(d2, dim = 1)"
   ]
  }
 ],
 "metadata": {
  "kernelspec": {
   "display_name": "pytorch",
   "language": "python",
   "name": "python3"
  },
  "language_info": {
   "codemirror_mode": {
    "name": "ipython",
    "version": 3
   },
   "file_extension": ".py",
   "mimetype": "text/x-python",
   "name": "python",
   "nbconvert_exporter": "python",
   "pygments_lexer": "ipython3",
   "version": "3.9.16"
  }
 },
 "nbformat": 4,
 "nbformat_minor": 2
}
