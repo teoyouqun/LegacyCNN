{
 "cells": [
  {
   "cell_type": "markdown",
   "metadata": {},
   "source": [
    "Import the necessary libraries and dependencies"
   ]
  },
  {
   "cell_type": "code",
   "execution_count": 1,
   "metadata": {},
   "outputs": [],
   "source": [
    "from python_lib.BasicModel import *\n",
    "import torch\n",
    "import numpy as np\n",
    "import os\n",
    "from python_lib.saveasfile import *\n",
    "import pandas as pd\n"
   ]
  },
  {
   "cell_type": "markdown",
   "metadata": {},
   "source": [
    "# Model initialisation \n",
    "\n",
    "Use BlockSave to save all the weights into a `.bin` file\n",
    "\n",
    "Be sure to `load_state_dict` from a `.pt`/`.pth` file before BlockSave\n",
    "\n",
    "It's omitted here as I don't have the weights on hand, so I just use a random initialised weights."
   ]
  },
  {
   "cell_type": "code",
   "execution_count": 2,
   "metadata": {},
   "outputs": [
    {
     "data": {
      "text/plain": [
       "<python_lib.saveasfile.BlockSave at 0x7ff70dadec20>"
      ]
     },
     "execution_count": 2,
     "metadata": {},
     "output_type": "execute_result"
    }
   ],
   "source": [
    "model = BasicModel(input_size = 2, input_length=16).to(\"cuda\")\n",
    "\n",
    "BlockSave(model.return_layers(), \"fullbasicmodel\", \"verifyCppVsPy\")\n"
   ]
  },
  {
   "cell_type": "markdown",
   "metadata": {},
   "source": [
    "# Generate Input Feats for testing purposes"
   ]
  },
  {
   "cell_type": "code",
   "execution_count": 4,
   "metadata": {},
   "outputs": [
    {
     "name": "stdout",
     "output_type": "stream",
     "text": [
      "[[0.28700072 0.6169604  0.6852525  0.57610816 0.95842755 0.69390893\n",
      "  0.09680605 0.83381253 0.89192003 0.8134774  0.9693227  0.14813513\n",
      "  0.27104497 0.64710045 0.7205885  0.49191618]\n",
      " [0.6322167  0.04847664 0.34838754 0.17704517 0.09914815 0.8611054\n",
      "  0.7872366  0.30172074 0.4570409  0.93936247 0.26015586 0.19969726\n",
      "  0.3091157  0.33220154 0.22918075 0.94229597]]\n"
     ]
    }
   ],
   "source": [
    "input_feats = torch.rand([1,2,16]).to(\"cuda\")\n",
    "input_feats_np = input_feats.cpu().detach().numpy()\n",
    "input_feats_np = np.reshape(input_feats_np, (2,16))\n",
    "print(input_feats_np)\n",
    "dim = input_feats_np.shape\n",
    "\n",
    "flatten_inputs = input_feats_np.flatten()\n",
    "with open(os.path.join(\"BasicModelWeights\", f\"basicinput_2x16.bin\"), \"wb\") as f:\n",
    "            # Write the dimensions down\n",
    "            f.write(np.array(dim, dtype=np.int32).tobytes())\n",
    "            # Write the flatten bias down\n",
    "            f.write(flatten_inputs.tobytes())"
   ]
  },
  {
   "cell_type": "markdown",
   "metadata": {},
   "source": [
    "# Run the model using eval/train mode"
   ]
  },
  {
   "cell_type": "code",
   "execution_count": 44,
   "metadata": {},
   "outputs": [
    {
     "name": "stdout",
     "output_type": "stream",
     "text": [
      "tensor([[[0.2870, 0.6170, 0.6853, 0.5761, 0.9584, 0.6939, 0.0968, 0.8338,\n",
      "          0.8919, 0.8135, 0.9693, 0.1481, 0.2710, 0.6471, 0.7206, 0.4919],\n",
      "         [0.6322, 0.0485, 0.3484, 0.1770, 0.0991, 0.8611, 0.7872, 0.3017,\n",
      "          0.4570, 0.9394, 0.2602, 0.1997, 0.3091, 0.3322, 0.2292, 0.9423]]],\n",
      "       device='cuda:0')\n"
     ]
    },
    {
     "data": {
      "text/plain": [
       "tensor([[0.1855, 0.1936, 0.1554, 0.1603, 0.1642, 0.1411]], device='cuda:0',\n",
       "       grad_fn=<SoftmaxBackward0>)"
      ]
     },
     "execution_count": 44,
     "metadata": {},
     "output_type": "execute_result"
    }
   ],
   "source": [
    "model.eval()\n",
    "print(input_feats)\n",
    "model(input_feats)"
   ]
  },
  {
   "cell_type": "markdown",
   "metadata": {},
   "source": [
    "# Verification Test C++ vs Py"
   ]
  },
  {
   "cell_type": "markdown",
   "metadata": {},
   "source": [
    "## Generating Test Inputs\n",
    "\n",
    "**NOTE:** Change the values of `no_of_inputs, no_of_channel_in, no_of_input_width` accordingly to desired matrix size\n",
    "\n",
    "Randomizes a `no_of_inputs x no_of_channel_in x no_of_input_width` matrix and saves the values into:\n",
    "1. A binary (to feed C++ as input)\n",
    "2. A CSV (to verify input values)"
   ]
  },
  {
   "cell_type": "code",
   "execution_count": 39,
   "metadata": {},
   "outputs": [
    {
     "name": "stdout",
     "output_type": "stream",
     "text": [
      "tensor([[[0.6164, 0.8554, 0.5284, 0.7150, 0.1052, 0.4985, 0.3873, 0.1065,\n",
      "          0.7682, 0.2434, 0.1204, 0.8293, 0.2587, 0.5260, 0.0181, 0.2833],\n",
      "         [0.7888, 0.3764, 0.7509, 0.6465, 0.9248, 0.7682, 0.7104, 0.7927,\n",
      "          0.5213, 0.3009, 0.3638, 0.8697, 0.2479, 0.7677, 0.4936, 0.0186]]],\n",
      "       device='cuda:0')\n",
      "(1, 2, 16)\n",
      "[[[0.6164286  0.855433   0.528442   0.7150416  0.10521591 0.49845898\n",
      "   0.38728803 0.10650897 0.76816475 0.24342638 0.1203537  0.82928693\n",
      "   0.2587353  0.52597785 0.0181042  0.2832927 ]\n",
      "  [0.7888284  0.3763553  0.750899   0.64651126 0.9248469  0.76824063\n",
      "   0.7103609  0.79273665 0.52125335 0.30085003 0.36378407 0.8697028\n",
      "   0.24787968 0.76765585 0.49357527 0.01863116]]]\n"
     ]
    }
   ],
   "source": [
    "no_of_inputs = 10\n",
    "no_of_channel_in = 2\n",
    "no_of_input_width = 16\n",
    "\n",
    "verify_feats = torch.rand([no_of_inputs,no_of_channel_in,no_of_input_width]).to(\"cuda\")\n",
    "print(verify_feats)\n",
    "verify_feats_np = verify_feats.cpu().detach().numpy()\n",
    "\n",
    "## Reshaping\n",
    "# if no_of_inputs == 1:\n",
    "#     verify_feats_np = np.reshape(verify_feats_np, (no_of_channel_in,no_of_input_width))\n",
    "# else:\n",
    "verify_feats_np = np.reshape(verify_feats_np, (no_of_inputs,no_of_channel_in,no_of_input_width)) \n",
    "dim = verify_feats_np.shape\n",
    "print(dim)\n",
    "\n",
    "## Writing verify inputs into binary\n",
    "flatten_verify = verify_feats_np.flatten()\n",
    "with open(os.path.join(\"verifyCppVsPy\", f\"testInput_basicModel_{no_of_inputs}x{no_of_channel_in}x{no_of_input_width}.bin\"), \"wb\") as f:\n",
    "            # Write the dimensions down\n",
    "            f.write(np.array(dim, dtype=np.int32).tobytes())\n",
    "            # Write the flatten bias down\n",
    "            f.write(flatten_verify.tobytes())\n",
    "            \n",
    "## Extracting verification input values into CSV\n",
    "array_2d = verify_feats_np.reshape(no_of_inputs, -1)\n",
    "output_df = pd.DataFrame(array_2d)\n",
    "output_df.to_csv(f\"verifyCppVsPy/testInput_basicModel_{no_of_inputs}x{no_of_channel_in}x{no_of_input_width}.csv\",\\\n",
    "                 header=False, index=False)\n",
    "print(verify_feats_np)"
   ]
  },
  {
   "cell_type": "code",
   "execution_count": 41,
   "metadata": {},
   "outputs": [
    {
     "data": {
      "text/plain": [
       "tensor([[0.1853, 0.1935, 0.1558, 0.1605, 0.1639, 0.1411]], device='cuda:0',\n",
       "       grad_fn=<SoftmaxBackward0>)"
      ]
     },
     "execution_count": 41,
     "metadata": {},
     "output_type": "execute_result"
    }
   ],
   "source": [
    "model.eval()\n",
    "model(verify_feats)"
   ]
  },
  {
   "cell_type": "code",
   "execution_count": null,
   "metadata": {},
   "outputs": [],
   "source": []
  }
 ],
 "metadata": {
  "kernelspec": {
   "display_name": "Python 3 (ipykernel)",
   "language": "python",
   "name": "python3"
  },
  "language_info": {
   "codemirror_mode": {
    "name": "ipython",
    "version": 3
   },
   "file_extension": ".py",
   "mimetype": "text/x-python",
   "name": "python",
   "nbconvert_exporter": "python",
   "pygments_lexer": "ipython3",
   "version": "3.10.12"
  }
 },
 "nbformat": 4,
 "nbformat_minor": 2
}
